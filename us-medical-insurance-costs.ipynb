{
 "cells": [
  {
   "cell_type": "markdown",
   "metadata": {},
   "source": [
    "# U.S. Medical Insurance Costs"
   ]
  },
  {
   "cell_type": "code",
   "execution_count": null,
   "metadata": {},
   "outputs": [],
   "source": []
  },
  {
   "cell_type": "code",
   "execution_count": 1,
   "metadata": {},
   "outputs": [],
   "source": [
    "#Importing CSV Module\n",
    "import csv\n",
    "#List Creation for Data Storage\n",
    "ages = []\n",
    "sexes = []\n",
    "bmis = []\n",
    "num_children = []\n",
    "smokers = []\n",
    "regions = []\n",
    "insurance_charges = []\n",
    "#Loading Function for csv to list \n",
    "def load_csv_data(list_name, csv_file, column_name):\n",
    "    with open(csv_file) as csv_info:\n",
    "        csv_dict = csv.DictReader(csv_info)\n",
    "        for row in csv_dict:\n",
    "            list_name.append(row[column_name])\n",
    "load_csv_data(ages, \"insurance.csv\", 'age')\n",
    "load_csv_data(sexes, \"insurance.csv\", 'sex')\n",
    "load_csv_data(bmis, \"insurance.csv\", 'bmi')\n",
    "load_csv_data(num_children, \"insurance.csv\", 'children')\n",
    "load_csv_data(smokers, \"insurance.csv\", 'smoker')\n",
    "load_csv_data(regions, \"insurance.csv\", 'region')\n",
    "load_csv_data(insurance_charges, \"insurance.csv\", 'charges')\n"
   ]
  },
  {
   "cell_type": "code",
   "execution_count": 15,
   "metadata": {},
   "outputs": [],
   "source": [
    "class PatientInfo:\n",
    "    def __init__(self, patient_age, patient_sex, patient_bmi, patient_num_children,\n",
    "                 patient_smoker, patient_region, patient_insurance_charge):\n",
    "        self.patient_age = patient_age\n",
    "        self.patient_sex = patient_sex\n",
    "        self.patient_bmi = patient_bmi\n",
    "        self.patient_num_children = patient_num_children\n",
    "        self.patient_smoker = patient_smoker\n",
    "        self.patient_region = patient_region\n",
    "        self.patient_insurance_charge = patient_insurance_charge\n",
    "        \n",
    "    def analyze_ages(self):\n",
    "        total_age = 0\n",
    "        for age in self.patient_age:\n",
    "            total_age += int(age)\n",
    "        print(f\"The Average age of the patients is {round(total_age/len(self.patient_age), 2)} years.\")\n",
    "    \n",
    "    def analyze_sexes(self):\n",
    "        men = 0\n",
    "        women = 0\n",
    "        for each in self.patient_sex:\n",
    "            if each == \"male\":\n",
    "                men += 1\n",
    "            else:\n",
    "                women += 1\n",
    "                \n",
    "        print(f\"Total Females:{women}.\")\n",
    "        print(f\"Total Males: {men}.\")\n",
    "        \n",
    "    def most_common_region(self):\n",
    "        regions_dict = {}\n",
    "        for name in self.patient_region:\n",
    "            if name in regions_dict:\n",
    "                regions_dict[name] += 1\n",
    "            else:\n",
    "                regions_dict[name] = 1\n",
    "        sorted_regions = sorted(regions_dict, reverse=True)\n",
    "        #print(regions_dict.items()) --- check for most common region\n",
    "        print(sorted_regions[1])\n",
    "\n",
    "\n",
    "    def find_average_charges(self):\n",
    "        total_charges = 0\n",
    "        for i in self.patient_insurance_charge:\n",
    "            total_charges += float(i)\n",
    "        print(f\"The average insurance charges of the patients is: {round((total_charges/len(self.patient_insurance_charge)), 2)} $.\")\n",
    "        \n",
    "    def average_parent_age(self):\n",
    "        total_parents = 0\n",
    "        total_parent_years = 0\n",
    "        for i in range(len(self.patient_age)):\n",
    "            if int(self.patient_num_children[i]) > 0:\n",
    "                total_parents += 1\n",
    "                total_parent_years += int(self.patient_age[i])\n",
    "        print(f\"The average age of parents is {round(total_parent_years/total_parents, 2)}\")\n",
    "        "
   ]
  },
  {
   "cell_type": "code",
   "execution_count": 16,
   "metadata": {},
   "outputs": [
    {
     "name": "stdout",
     "output_type": "stream",
     "text": [
      "The average age of parents is 39.78\n"
     ]
    }
   ],
   "source": [
    "patient_info = PatientInfo(ages, sexes, bmis, num_children, smokers, regions, insurance_charges)\n",
    "patient_info.average_parent_age()"
   ]
  }
 ],
 "metadata": {
  "kernelspec": {
   "display_name": "Python 3 (ipykernel)",
   "language": "python",
   "name": "python3"
  },
  "language_info": {
   "codemirror_mode": {
    "name": "ipython",
    "version": 3
   },
   "file_extension": ".py",
   "mimetype": "text/x-python",
   "name": "python",
   "nbconvert_exporter": "python",
   "pygments_lexer": "ipython3",
   "version": "3.10.9"
  }
 },
 "nbformat": 4,
 "nbformat_minor": 4
}
